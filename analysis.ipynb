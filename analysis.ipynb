{
 "cells": [
  {
   "cell_type": "code",
   "execution_count": 42,
   "metadata": {},
   "outputs": [],
   "source": [
    "import os\n",
    "\n",
    "import pandas as pd\n",
    "import numpy as np\n",
    "import geopandas as gpd\n",
    "from pathlib import Path"
   ]
  },
  {
   "cell_type": "code",
   "execution_count": 2,
   "metadata": {},
   "outputs": [
    {
     "data": {
      "text/html": [
       "<div>\n",
       "<style scoped>\n",
       "    .dataframe tbody tr th:only-of-type {\n",
       "        vertical-align: middle;\n",
       "    }\n",
       "\n",
       "    .dataframe tbody tr th {\n",
       "        vertical-align: top;\n",
       "    }\n",
       "\n",
       "    .dataframe thead th {\n",
       "        text-align: right;\n",
       "    }\n",
       "</style>\n",
       "<table border=\"1\" class=\"dataframe\">\n",
       "  <thead>\n",
       "    <tr style=\"text-align: right;\">\n",
       "      <th></th>\n",
       "      <th>_id</th>\n",
       "      <th>AREA_NAME</th>\n",
       "      <th>geometry</th>\n",
       "    </tr>\n",
       "  </thead>\n",
       "  <tbody>\n",
       "    <tr>\n",
       "      <th>0</th>\n",
       "      <td>1</td>\n",
       "      <td>YORK</td>\n",
       "      <td>MULTIPOLYGON (((-79.49262 43.64744, -79.49249 ...</td>\n",
       "    </tr>\n",
       "    <tr>\n",
       "      <th>1</th>\n",
       "      <td>2</td>\n",
       "      <td>NORTH YORK</td>\n",
       "      <td>MULTIPOLYGON (((-79.53584 43.70812, -79.53591 ...</td>\n",
       "    </tr>\n",
       "    <tr>\n",
       "      <th>2</th>\n",
       "      <td>3</td>\n",
       "      <td>EAST YORK</td>\n",
       "      <td>MULTIPOLYGON (((-79.28776 43.68978, -79.28909 ...</td>\n",
       "    </tr>\n",
       "    <tr>\n",
       "      <th>3</th>\n",
       "      <td>4</td>\n",
       "      <td>SCARBOROUGH</td>\n",
       "      <td>MULTIPOLYGON (((-79.28776 43.68978, -79.28792 ...</td>\n",
       "    </tr>\n",
       "    <tr>\n",
       "      <th>4</th>\n",
       "      <td>5</td>\n",
       "      <td>ETOBICOKE</td>\n",
       "      <td>MULTIPOLYGON (((-79.48165 43.61872, -79.48180 ...</td>\n",
       "    </tr>\n",
       "    <tr>\n",
       "      <th>5</th>\n",
       "      <td>6</td>\n",
       "      <td>TORONTO</td>\n",
       "      <td>MULTIPOLYGON (((-79.39652 43.62232, -79.39685 ...</td>\n",
       "    </tr>\n",
       "  </tbody>\n",
       "</table>\n",
       "</div>"
      ],
      "text/plain": [
       "   _id    AREA_NAME                                           geometry\n",
       "0    1         YORK  MULTIPOLYGON (((-79.49262 43.64744, -79.49249 ...\n",
       "1    2   NORTH YORK  MULTIPOLYGON (((-79.53584 43.70812, -79.53591 ...\n",
       "2    3    EAST YORK  MULTIPOLYGON (((-79.28776 43.68978, -79.28909 ...\n",
       "3    4  SCARBOROUGH  MULTIPOLYGON (((-79.28776 43.68978, -79.28792 ...\n",
       "4    5    ETOBICOKE  MULTIPOLYGON (((-79.48165 43.61872, -79.48180 ...\n",
       "5    6      TORONTO  MULTIPOLYGON (((-79.39652 43.62232, -79.39685 ..."
      ]
     },
     "execution_count": 2,
     "metadata": {},
     "output_type": "execute_result"
    }
   ],
   "source": [
    "# municipal boundaries\n",
    "\n",
    "boundaries = gpd.read_file(Path(\".\") / \"open_toronto_ca\" / \"Former Municipality Boundaries Data.geojson\")\n",
    "boundaries[[\"_id\", \"AREA_NAME\", \"geometry\"]]"
   ]
  },
  {
   "cell_type": "code",
   "execution_count": 3,
   "metadata": {},
   "outputs": [
    {
     "data": {
      "text/plain": [
       "dtype('int64')"
      ]
     },
     "execution_count": 3,
     "metadata": {},
     "output_type": "execute_result"
    }
   ],
   "source": [
    "boundaries._id.dtype"
   ]
  },
  {
   "cell_type": "code",
   "execution_count": 4,
   "metadata": {},
   "outputs": [],
   "source": [
    "# banner 1\n",
    "banner1 = pd.read_csv(Path(\".\") / \"Toronto Foundation\" / \"social_capital_2022_banner_1.csv\", encoding=\"windows-1252\")"
   ]
  },
  {
   "cell_type": "code",
   "execution_count": 5,
   "metadata": {},
   "outputs": [],
   "source": [
    "banner1_geography = banner1[banner1[\"category\"] == \"Geography\"]"
   ]
  },
  {
   "cell_type": "code",
   "execution_count": 6,
   "metadata": {},
   "outputs": [],
   "source": [
    "geo_to_id = {\n",
    "  'Old Tor.': 6, \n",
    "  'York': 1, \n",
    "  'Scar.': 4, \n",
    "  'Etob.': 5, \n",
    "  'N York': 2, \n",
    "  'E York': 3,\n",
    "}\n",
    "\n",
    "banner1_geography = banner1_geography.assign(_id=lambda x: [geo_to_id[group] for group in x['group']])"
   ]
  },
  {
   "cell_type": "code",
   "execution_count": 7,
   "metadata": {},
   "outputs": [],
   "source": [
    "merged_pd = banner1_geography.join(\n",
    "  boundaries[[\"_id\", \"AREA_NAME\", \"geometry\"]].set_index(\"_id\"), \n",
    "  on=\"_id\", \n",
    "  lsuffix=\"b\"\n",
    ")"
   ]
  },
  {
   "cell_type": "code",
   "execution_count": 8,
   "metadata": {},
   "outputs": [
    {
     "data": {
      "text/plain": [
       "Index(['question_text', 'response', 'category', 'group', 'frequency', '_id',\n",
       "       'AREA_NAME', 'geometry'],\n",
       "      dtype='object')"
      ]
     },
     "execution_count": 8,
     "metadata": {},
     "output_type": "execute_result"
    }
   ],
   "source": [
    "merged_pd.columns"
   ]
  },
  {
   "cell_type": "code",
   "execution_count": 9,
   "metadata": {},
   "outputs": [],
   "source": [
    "merged_gdf = gpd.GeoDataFrame(merged_pd, geometry=merged_pd[\"geometry\"])"
   ]
  },
  {
   "cell_type": "code",
   "execution_count": 10,
   "metadata": {},
   "outputs": [],
   "source": [
    "# columns\n",
    "# only want the nets\n",
    "# show one question at a time?"
   ]
  },
  {
   "cell_type": "code",
   "execution_count": 11,
   "metadata": {},
   "outputs": [],
   "source": [
    "merged_gdf = merged_gdf.assign(q_short=lambda x: [q.split(\".\")[0] for q in x['question_text']])"
   ]
  },
  {
   "cell_type": "code",
   "execution_count": 12,
   "metadata": {},
   "outputs": [
    {
     "data": {
      "text/plain": [
       "array(['Q1', 'Q2', 'Q4', 'Q5', 'Q6', 'Q7A', 'Q7B', 'Q7C', 'Q7D', 'Q7E',\n",
       "       'Q7', 'Q8A', 'Q8B', 'Q8C', 'Q8D', 'Q8', 'Q9', 'Q10', 'Q11A',\n",
       "       'Q11B', 'Q11C', 'Q12A', 'Q12B', 'Q12C', 'Q12D', 'Q12E', 'Q12F',\n",
       "       'Q12', 'Q13A', 'Q13B', 'Q13C', 'Q13D', 'Q13E', 'Q13F', 'Q13G',\n",
       "       'Q13H', 'Q13I', 'Q13', 'Q14', 'Q15', 'Q16', 'Q17', 'Q18', 'Q19',\n",
       "       'Q21A', 'Q21B', 'Q21C', 'Q22A', 'Q22B', 'Q22C', 'Q22D', 'Q23',\n",
       "       'Q70A', 'Q70B', 'Q70C', 'Q70D', 'Q70', 'Q24A', 'Q24B', 'Q24C',\n",
       "       'Q24', 'Q74AA', 'Q74AB', 'Q74AC', 'Q74AD', 'Q74AE', 'Q74BB',\n",
       "       'Q74BD', 'Q25', 'Q25_COUNT', 'Q77', 'Q29', 'Q30', 'Q31', 'Q33',\n",
       "       'Q35', 'Q35AA', 'Q35AB', 'Q35AC', 'Q35AD', 'Q35AE', 'Q35AF',\n",
       "       'Q35AG', 'Q36', 'Q37', 'Q38', 'Q39A', 'Q39B', 'Q39C', 'Q39D',\n",
       "       'Q68A', 'Q68B', 'Q68C', 'Q68D', 'Q68E', 'Q68F', 'Q68G', 'Q68H',\n",
       "       'Q68I', 'Q68J', 'Q69', 'Q75', 'Q76A', 'Q76B', 'Q76C', 'Q76D',\n",
       "       'Q41a', 'Q42', 'Q45', 'Q47', 'Q47AA', 'Q47AB', 'Q47AC', 'Q47AD',\n",
       "       'Q47AE', 'Children at home', 'Q48', 'Geography', 'Neighbourhood',\n",
       "       'District', 'Neighbourhood clusters', 'Oversampled neighbourhoods',\n",
       "       'Neighbourhood Improvement Areas', 'Q65', 'Q66', 'Q50', 'Q51',\n",
       "       'Q53', 'Q54', 'Q55', 'Q56', 'Q56b', 'Q58', 'Q59', 'Q61', 'Q62',\n",
       "       'Q64', 'Gender', 'Age', 'QA3', 'QS5', 'Q68', 'Soctrust index',\n",
       "       'Socnetwork index', 'Civiccon index', 'Banner 3'], dtype=object)"
      ]
     },
     "execution_count": 12,
     "metadata": {},
     "output_type": "execute_result"
    }
   ],
   "source": [
    "merged_gdf['q_short'].unique()"
   ]
  },
  {
   "cell_type": "code",
   "execution_count": 39,
   "metadata": {},
   "outputs": [],
   "source": [
    "felt_test = merged_gdf[merged_gdf[\"q_short\"] == \"Q38\"].pivot(\n",
    "  index=['_id'],\n",
    "  columns=['response'],\n",
    "  values=['frequency']\n",
    ")\n",
    "felt_test = felt_test['frequency'].join(\n",
    "  boundaries[[\"_id\", \"AREA_NAME\", \"geometry\"]].set_index(\"_id\"), \n",
    "  on=\"_id\", \n",
    "  lsuffix=\"b\"\n",
    ")"
   ]
  },
  {
   "cell_type": "code",
   "execution_count": 40,
   "metadata": {},
   "outputs": [
    {
     "data": {
      "text/html": [
       "<div>\n",
       "<style scoped>\n",
       "    .dataframe tbody tr th:only-of-type {\n",
       "        vertical-align: middle;\n",
       "    }\n",
       "\n",
       "    .dataframe tbody tr th {\n",
       "        vertical-align: top;\n",
       "    }\n",
       "\n",
       "    .dataframe thead th {\n",
       "        text-align: right;\n",
       "    }\n",
       "</style>\n",
       "<table border=\"1\" class=\"dataframe\">\n",
       "  <thead>\n",
       "    <tr style=\"text-align: right;\">\n",
       "      <th></th>\n",
       "      <th>A bit stressful</th>\n",
       "      <th>Cannot say</th>\n",
       "      <th>Extremely stressful</th>\n",
       "      <th>NET: Not stressful -------------------</th>\n",
       "      <th>NET: Stressful ---------------</th>\n",
       "      <th>Not at all stressful</th>\n",
       "      <th>Not very stressful</th>\n",
       "      <th>Quite a bit stressful</th>\n",
       "      <th>AREA_NAME</th>\n",
       "      <th>geometry</th>\n",
       "    </tr>\n",
       "    <tr>\n",
       "      <th>_id</th>\n",
       "      <th></th>\n",
       "      <th></th>\n",
       "      <th></th>\n",
       "      <th></th>\n",
       "      <th></th>\n",
       "      <th></th>\n",
       "      <th></th>\n",
       "      <th></th>\n",
       "      <th></th>\n",
       "      <th></th>\n",
       "    </tr>\n",
       "  </thead>\n",
       "  <tbody>\n",
       "    <tr>\n",
       "      <th>1</th>\n",
       "      <td>98.571167</td>\n",
       "      <td>5.126976</td>\n",
       "      <td>19.266890</td>\n",
       "      <td>68.850459</td>\n",
       "      <td>79.710020</td>\n",
       "      <td>18.743951</td>\n",
       "      <td>50.106508</td>\n",
       "      <td>60.443130</td>\n",
       "      <td>YORK</td>\n",
       "      <td>MULTIPOLYGON (((-79.49262 43.64744, -79.49249 ...</td>\n",
       "    </tr>\n",
       "    <tr>\n",
       "      <th>2</th>\n",
       "      <td>383.848479</td>\n",
       "      <td>18.335735</td>\n",
       "      <td>73.108666</td>\n",
       "      <td>349.094032</td>\n",
       "      <td>304.822599</td>\n",
       "      <td>92.360285</td>\n",
       "      <td>256.733747</td>\n",
       "      <td>231.713933</td>\n",
       "      <td>NORTH YORK</td>\n",
       "      <td>MULTIPOLYGON (((-79.53584 43.70812, -79.53591 ...</td>\n",
       "    </tr>\n",
       "    <tr>\n",
       "      <th>3</th>\n",
       "      <td>76.199361</td>\n",
       "      <td>0.000000</td>\n",
       "      <td>7.671625</td>\n",
       "      <td>78.675250</td>\n",
       "      <td>52.148269</td>\n",
       "      <td>19.481798</td>\n",
       "      <td>59.193452</td>\n",
       "      <td>44.476644</td>\n",
       "      <td>EAST YORK</td>\n",
       "      <td>MULTIPOLYGON (((-79.28776 43.68978, -79.28909 ...</td>\n",
       "    </tr>\n",
       "    <tr>\n",
       "      <th>4</th>\n",
       "      <td>358.808165</td>\n",
       "      <td>9.581309</td>\n",
       "      <td>70.041915</td>\n",
       "      <td>307.923149</td>\n",
       "      <td>264.558080</td>\n",
       "      <td>87.046277</td>\n",
       "      <td>220.876872</td>\n",
       "      <td>194.516165</td>\n",
       "      <td>SCARBOROUGH</td>\n",
       "      <td>MULTIPOLYGON (((-79.28776 43.68978, -79.28792 ...</td>\n",
       "    </tr>\n",
       "    <tr>\n",
       "      <th>5</th>\n",
       "      <td>209.264373</td>\n",
       "      <td>13.350424</td>\n",
       "      <td>30.868704</td>\n",
       "      <td>176.605086</td>\n",
       "      <td>159.735002</td>\n",
       "      <td>47.764104</td>\n",
       "      <td>128.840982</td>\n",
       "      <td>128.866298</td>\n",
       "      <td>ETOBICOKE</td>\n",
       "      <td>MULTIPOLYGON (((-79.48165 43.61872, -79.48180 ...</td>\n",
       "    </tr>\n",
       "    <tr>\n",
       "      <th>6</th>\n",
       "      <td>504.605934</td>\n",
       "      <td>10.003495</td>\n",
       "      <td>79.464435</td>\n",
       "      <td>310.732530</td>\n",
       "      <td>322.450086</td>\n",
       "      <td>85.433899</td>\n",
       "      <td>225.298631</td>\n",
       "      <td>242.985651</td>\n",
       "      <td>TORONTO</td>\n",
       "      <td>MULTIPOLYGON (((-79.39652 43.62232, -79.39685 ...</td>\n",
       "    </tr>\n",
       "  </tbody>\n",
       "</table>\n",
       "</div>"
      ],
      "text/plain": [
       "     A bit stressful  Cannot say  Extremely stressful  \\\n",
       "_id                                                     \n",
       "1          98.571167    5.126976            19.266890   \n",
       "2         383.848479   18.335735            73.108666   \n",
       "3          76.199361    0.000000             7.671625   \n",
       "4         358.808165    9.581309            70.041915   \n",
       "5         209.264373   13.350424            30.868704   \n",
       "6         504.605934   10.003495            79.464435   \n",
       "\n",
       "     NET: Not stressful -------------------  NET: Stressful ---------------  \\\n",
       "_id                                                                           \n",
       "1                                 68.850459                       79.710020   \n",
       "2                                349.094032                      304.822599   \n",
       "3                                 78.675250                       52.148269   \n",
       "4                                307.923149                      264.558080   \n",
       "5                                176.605086                      159.735002   \n",
       "6                                310.732530                      322.450086   \n",
       "\n",
       "     Not at all stressful  Not very stressful  Quite a bit stressful  \\\n",
       "_id                                                                    \n",
       "1               18.743951           50.106508              60.443130   \n",
       "2               92.360285          256.733747             231.713933   \n",
       "3               19.481798           59.193452              44.476644   \n",
       "4               87.046277          220.876872             194.516165   \n",
       "5               47.764104          128.840982             128.866298   \n",
       "6               85.433899          225.298631             242.985651   \n",
       "\n",
       "       AREA_NAME                                           geometry  \n",
       "_id                                                                  \n",
       "1           YORK  MULTIPOLYGON (((-79.49262 43.64744, -79.49249 ...  \n",
       "2     NORTH YORK  MULTIPOLYGON (((-79.53584 43.70812, -79.53591 ...  \n",
       "3      EAST YORK  MULTIPOLYGON (((-79.28776 43.68978, -79.28909 ...  \n",
       "4    SCARBOROUGH  MULTIPOLYGON (((-79.28776 43.68978, -79.28792 ...  \n",
       "5      ETOBICOKE  MULTIPOLYGON (((-79.48165 43.61872, -79.48180 ...  \n",
       "6        TORONTO  MULTIPOLYGON (((-79.39652 43.62232, -79.39685 ...  "
      ]
     },
     "execution_count": 40,
     "metadata": {},
     "output_type": "execute_result"
    }
   ],
   "source": [
    "felt_test"
   ]
  },
  {
   "cell_type": "code",
   "execution_count": 52,
   "metadata": {},
   "outputs": [],
   "source": [
    "os.makedirs(\"question_tables\", exist_ok=True)\n",
    "felt_test_gdf = gpd.GeoDataFrame(felt_test, geometry=felt_test['geometry'])\n",
    "felt_test_gdf.to_file(Path(\"question_tables\") / \"Q38.geojson\", driver='GeoJSON')"
   ]
  }
 ],
 "metadata": {
  "kernelspec": {
   "display_name": "base",
   "language": "python",
   "name": "python3"
  },
  "language_info": {
   "codemirror_mode": {
    "name": "ipython",
    "version": 3
   },
   "file_extension": ".py",
   "mimetype": "text/x-python",
   "name": "python",
   "nbconvert_exporter": "python",
   "pygments_lexer": "ipython3",
   "version": "3.11.5"
  }
 },
 "nbformat": 4,
 "nbformat_minor": 2
}
