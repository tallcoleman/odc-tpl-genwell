{
 "cells": [
  {
   "cell_type": "code",
   "execution_count": 1,
   "id": "86d8146b",
   "metadata": {},
   "outputs": [
    {
     "ename": "ModuleNotFoundError",
     "evalue": "No module named 'pandas'",
     "output_type": "error",
     "traceback": [
      "\u001b[0;31m---------------------------------------------------------------------------\u001b[0m",
      "\u001b[0;31mModuleNotFoundError\u001b[0m                       Traceback (most recent call last)",
      "Cell \u001b[0;32mIn[1], line 2\u001b[0m\n\u001b[1;32m      1\u001b[0m \u001b[38;5;66;03m#pandas version 2.0.3\u001b[39;00m\n\u001b[0;32m----> 2\u001b[0m \u001b[38;5;28;01mimport\u001b[39;00m \u001b[38;5;21;01mpandas\u001b[39;00m \u001b[38;5;28;01mas\u001b[39;00m \u001b[38;5;21;01mpd\u001b[39;00m\n",
      "\u001b[0;31mModuleNotFoundError\u001b[0m: No module named 'pandas'"
     ]
    }
   ],
   "source": [
    "#pandas version 2.0.3\n",
    "import pandas as pd"
   ]
  },
  {
   "cell_type": "code",
   "execution_count": null,
   "id": "bcba2596",
   "metadata": {},
   "outputs": [],
   "source": [
    "banner_num = 1"
   ]
  },
  {
   "cell_type": "code",
   "execution_count": null,
   "id": "b3d60865",
   "metadata": {},
   "outputs": [],
   "source": [
    "df = pd.read_excel('11468 Toronto Social Capital Project 2022 Total Merged Tables v9a.xlsx',sheet_name=f'BANNER {str(banner_num)}')"
   ]
  },
  {
   "cell_type": "code",
   "execution_count": null,
   "id": "a8b95114",
   "metadata": {},
   "outputs": [],
   "source": [
    "cat_rename = {'Unnamed: 2':'response','Unnamed: 3':'total'}"
   ]
  },
  {
   "cell_type": "code",
   "execution_count": null,
   "id": "118efd1c",
   "metadata": {},
   "outputs": [],
   "source": [
    "#BANNER 1\n",
    "if banner_num == 1:\n",
    "    cat_fields = ['Old Tor.','York','Scar.','Etob.','N York','E York','Hum/Nor','Hum/Sout','Wes/Jane','New/Will','Yd/Annx',\\\n",
    "                  'NTO/DonM','Downtown','Dan/Bch','Scar/Agin','Scar,Ionv','Scar/Thrn','GGM','Rexdale','Greater Downsview',\\\n",
    "                  'Jane-Finch','Downsview','NIA','EMG','OTH']\n",
    "    x = 3\n",
    "    for cat_field in cat_fields:\n",
    "        x = x + 1\n",
    "        cat_rename[f'Unnamed: {x}'] = cat_field\n",
    "    cat_geography = ['Old Tor.','York','Scar.','Etob.','N York','E York']\n",
    "    cat_neighbourhood = ['Hum/Nor','Hum/Sout','Wes/Jane','New/Will','Yd/Annx','NTO/DonM','Downtown','Dan/Bch','Scar/Agin',\\\n",
    "                         'Scar,Ionv','Scar/Thrn']\n",
    "    cat_oversampled = ['GGM','Rexdale','Greater Downsview','Jane-Finch','Downsview']\n",
    "    cat_nia = ['NIA','EMG','OTH']"
   ]
  },
  {
   "cell_type": "code",
   "execution_count": null,
   "id": "798920ca",
   "metadata": {},
   "outputs": [],
   "source": [
    "#BANNER 2\n",
    "if banner_num == 2:\n",
    "    cat_fields = ['Own','Rent','Always / often limits','Occasionally limits','No','Physical disability','Mental disability',\\\n",
    "                  'HS or less','Trades / College','University','Less than $30K','$30K - $60K','$60K - $100K','$100K plus',\\\n",
    "                  'Good enough','Just enough','Stretched / Hard time','Employed','Unemployed','Not in labour force',\\\n",
    "                  'Work from home','Regular','Immigrant','2nd generation','3rd gen plus','0 - <10 yrs','10 - 19 yrs','20 yrs+',\\\n",
    "                  'White','Any racialized','South Asian','Chinese','Black','Other racialized','Yes - active','Yes - casual','Not religious']\n",
    "    x = 3\n",
    "    for cat_field in cat_fields:\n",
    "        x = x + 1\n",
    "        cat_rename[f'Unnamed: {x}'] = cat_field\n",
    "    cat_dwelling = ['Own','Rent']\n",
    "    cat_disability = ['Always / often limits','Occasionally limits','No']\n",
    "    cat_disability_type = ['Physical disability','Mental disability']\n",
    "    cat_education = ['HS or less','Trades / College','University']\n",
    "    cat_income = ['Less than $30K','$30K - $60K','$60K - $100K','$100K plus']\n",
    "    cat_income_adequacy = ['Good enough','Just enough','Stretched / Hard time']\n",
    "    cat_employment = ['Employed','Unemployed','Not in labour force']\n",
    "    cat_work_location = ['Work from home','Regular']\n",
    "    cat_generation = ['Immigrant','2nd generation','3rd gen plus']\n",
    "    cat_generation_length = ['0 - <10 yrs','10 - 19 yrs','20 yrs+']\n",
    "    cat_racial_identity = ['White','Any racialized','South Asian','Chinese','Black','Other racialized']\n",
    "    cat_religious = ['Yes - active','Yes - casual','Not religious']"
   ]
  },
  {
   "cell_type": "code",
   "execution_count": null,
   "id": "df357b87",
   "metadata": {},
   "outputs": [],
   "source": [
    "#BANNER 3\n",
    "if banner_num == 3:\n",
    "    cat_fields = ['Most or many','Few','None','Yes (Donor)','No (Donor)','No volunteer','Light volunteer','Active volunteer',\\\n",
    "                  'Zero','One','Two or more','Excellent + very good','Good','Fair + poor','Yes (Food insecure)',\\\n",
    "                  'No (Food insecure)','3 or less (Well-being)','Just above 3 to 6 (Well-being)','Just above 6 to 8 (Well-being)',\\\n",
    "                  'Above 8 (Well-being)','1 or less (Discrimination)','Just above 1 to 3 (Discrimination)',\\\n",
    "                  'Just above 3 to 6 (Discrimination)','Above 6 (Discrimination)']\n",
    "    x = 3\n",
    "    for cat_field in cat_fields:\n",
    "        x = x + 1\n",
    "        cat_rename[f'Unnamed: {x}'] = cat_field\n",
    "    cat_neighbours = ['Most or many','Few','None']\n",
    "    cat_donor = ['Yes (Donor)','No (Donor)']\n",
    "    cat_volunteer = ['No volunteer','Light volunteer','Active volunteer']\n",
    "    cat_participation = ['Zero','One','Two or more']\n",
    "    cat_mental_health = ['Excellent + very good','Good','Fair + poor']\n",
    "    cat_food = ['Yes (Food insecure)','No (Food insecure)']\n",
    "    cat_wellbeing = ['3 or less (Well-being)','Just above 3 to 6 (Well-being)','Just above 6 to 8 (Well-being)','Above 8 (Well-being)']\n",
    "    cat_discrimination = ['1 or less (Discrimination)','Just above 1 to 3 (Discrimination)','Just above 3 to 6 (Discrimination)','Above 6 (Discrimination)']"
   ]
  },
  {
   "cell_type": "code",
   "execution_count": null,
   "id": "d9926ebb",
   "metadata": {},
   "outputs": [],
   "source": [
    "#BANNER 4\n",
    "if banner_num == 4:\n",
    "    cat_fields = ['18-24','25-29','30-39','40-54','55-64','65+','Male','Female','Hetero','LGBTQ+','Single, no children',\\\n",
    "                  'In couple, no children','In couple with children','Single with children','1','2','More than 2',\\\n",
    "                  'Size = 1, age = 25 to 40','Size = 1, age =  65+','No children at home','At least one child 0-4',\\\n",
    "                  'At least one child Ages 5 to 12 but no child 0-4','At least one child Ages 13 to 18 but no child 0-12',\\\n",
    "                  'At least one child Ages 19+ to 24 but no child 0-18','At least one child Ages 25+ but no child 0-24']\n",
    "    x = 3\n",
    "    for cat_field in cat_fields:\n",
    "        x = x + 1\n",
    "        cat_rename[f'Unnamed: {x}'] = cat_field\n",
    "    cat_age = ['18-24','25-29','30-39','40-54','55-64','65+']\n",
    "    cat_gender = ['Male','Female']\n",
    "    cat_sex_orientation = ['Hetero','LGBTQ+']\n",
    "    cat_family = ['Single, no children','In couple, no children','In couple with children','Single with children']\n",
    "    cat_household = ['1','2','More than 2','Size = 1, age = 25 to 40','Size = 1, age =  65+']\n",
    "    cat_children = ['No children at home','At least one child 0-4','At least one child Ages 5 to 12 but no child 0-4',\\\n",
    "                      'At least one child Ages 13 to 18 but no child 0-12','At least one child Ages 19+ to 24 but no child 0-18',\\\n",
    "                      'At least one child Ages 25+ but no child 0-24']"
   ]
  },
  {
   "cell_type": "code",
   "execution_count": null,
   "id": "b5ab1729",
   "metadata": {},
   "outputs": [],
   "source": [
    "df['question_1'] = df.apply(lambda x: x['Unnamed: 2'] if x['Apply Filter'] == 'Table Title 1' else None,axis=1)\n",
    "df['question_1'] = df['question_1'].fillna(method='ffill')"
   ]
  },
  {
   "cell_type": "code",
   "execution_count": null,
   "id": "ec801afa",
   "metadata": {},
   "outputs": [],
   "source": [
    "df['question_2'] = df.apply(lambda x: x['question_1'] if x['Apply Filter'] == 'Table Title 1' else None ,axis=1)\n",
    "df['question_2'] = df.apply(lambda x: x['question_1']+' '+x['Unnamed: 2'] if x['Apply Filter'] == 'Table Title 2' else x['question_2'] ,axis=1)\n",
    "df['question_2'] = df['question_2'].fillna(method='ffill')"
   ]
  },
  {
   "cell_type": "code",
   "execution_count": null,
   "id": "0e2b106c",
   "metadata": {},
   "outputs": [],
   "source": [
    "df['question_text'] = df.apply(lambda x: x['question_1'] if x['Apply Filter'] == 'Table Title 1' else None ,axis=1)\n",
    "df['question_text'] = df.apply(lambda x: x['question_2'] if x['Apply Filter'] == 'Table Title 2' else x['question_text'] ,axis=1)\n",
    "df['question_text'] = df.apply(lambda x: x['question_2']+' '+x['Unnamed: 2'] if x['Apply Filter'] == 'Table Title 3' else x['question_text'] ,axis=1)\n",
    "df['question_text'] = df['question_text'].fillna(method='ffill')"
   ]
  },
  {
   "cell_type": "code",
   "execution_count": null,
   "id": "a1d1381f",
   "metadata": {},
   "outputs": [],
   "source": [
    "df = df.rename(columns=cat_rename)"
   ]
  },
  {
   "cell_type": "code",
   "execution_count": null,
   "id": "b535b5a0",
   "metadata": {},
   "outputs": [],
   "source": [
    "df['response'] = df['response'].fillna('None')"
   ]
  },
  {
   "cell_type": "code",
   "execution_count": null,
   "id": "783d56e4",
   "metadata": {},
   "outputs": [],
   "source": [
    "df = df[df['Apply Filter']=='Frequency Row'][cat_fields+['question_text','response']]"
   ]
  },
  {
   "cell_type": "code",
   "execution_count": null,
   "id": "4bfb64d1",
   "metadata": {},
   "outputs": [],
   "source": [
    "df_format = df.melt(id_vars=['question_text','response'],value_vars=cat_fields)"
   ]
  },
  {
   "cell_type": "code",
   "execution_count": null,
   "id": "32162fe1",
   "metadata": {},
   "outputs": [],
   "source": [
    "df_format['value'] = df_format['value'].replace('-',0)"
   ]
  },
  {
   "cell_type": "code",
   "execution_count": null,
   "id": "3a85a377",
   "metadata": {},
   "outputs": [],
   "source": [
    "#BANNER 1\n",
    "if banner_num == 1:\n",
    "    df_format['category'] = None\n",
    "    df_format['category'] = df_format.apply(lambda x: 'Geography' if x['variable'] in cat_geography else x['category'],axis=1)\n",
    "    df_format['category'] = df_format.apply(lambda x: 'Neighbourhood clusters' if x['variable'] in cat_neighbourhood else x['category'],axis=1)\n",
    "    df_format['category'] = df_format.apply(lambda x: 'Oversampled neighbourhoods' if x['variable'] in cat_oversampled else x['category'],axis=1)\n",
    "    df_format['category'] = df_format.apply(lambda x: 'Neighbourhood Improvement Areas' if x['variable'] in cat_nia else x['category'],axis=1)"
   ]
  },
  {
   "cell_type": "code",
   "execution_count": null,
   "id": "ed4690f0",
   "metadata": {},
   "outputs": [],
   "source": [
    "#BANNER 2\n",
    "if banner_num == 2:\n",
    "    df_format['category'] = None\n",
    "    df_format['category'] = df_format.apply(lambda x: 'Dwelling type' if x['variable'] in cat_dwelling else x['category'],axis=1)\n",
    "    df_format['category'] = df_format.apply(lambda x: 'Disability' if x['variable'] in cat_disability else x['category'],axis=1)\n",
    "    df_format['category'] = df_format.apply(lambda x: 'Disability type' if x['variable'] in cat_disability_type else x['category'],axis=1)\n",
    "    df_format['category'] = df_format.apply(lambda x: 'Education' if x['variable'] in cat_education else x['category'],axis=1)\n",
    "    df_format['category'] = df_format.apply(lambda x: 'Household income' if x['variable'] in cat_income else x['category'],axis=1)\n",
    "    df_format['category'] = df_format.apply(lambda x: 'Income adequacy' if x['variable'] in cat_income_adequacy else x['category'],axis=1)\n",
    "    df_format['category'] = df_format.apply(lambda x: 'Employment status' if x['variable'] in cat_employment else x['category'],axis=1)\n",
    "    df_format['category'] = df_format.apply(lambda x: 'Work location' if x['variable'] in cat_work_location else x['category'],axis=1)    \n",
    "    df_format['category'] = df_format.apply(lambda x: 'Generation in Canada' if x['variable'] in cat_generation else x['category'],axis=1) \n",
    "    df_format['category'] = df_format.apply(lambda x: 'First generation length' if x['variable'] in cat_generation_length else x['category'],axis=1)\n",
    "    df_format['category'] = df_format.apply(lambda x: 'Racial identity' if x['variable'] in cat_racial_identity else x['category'],axis=1)    \n",
    "    df_format['category'] = df_format.apply(lambda x: 'Religious (combine)' if x['variable'] in cat_religious else x['category'],axis=1) "
   ]
  },
  {
   "cell_type": "code",
   "execution_count": null,
   "id": "498953eb",
   "metadata": {},
   "outputs": [],
   "source": [
    "#BANNER 3\n",
    "if banner_num == 3:\n",
    "    df_format['category'] = None\n",
    "    df_format['category'] = df_format.apply(lambda x: 'Know Neighbours' if x['variable'] in cat_neighbours else x['category'],axis=1)\n",
    "    df_format['category'] = df_format.apply(lambda x: 'Donor' if x['variable'] in cat_donor else x['category'],axis=1)\n",
    "    df_format['category'] = df_format.apply(lambda x: 'Volunteer' if x['variable'] in cat_volunteer else x['category'],axis=1)\n",
    "    df_format['category'] = df_format.apply(lambda x: 'Participation' if x['variable'] in cat_participation else x['category'],axis=1)\n",
    "    df_format['category'] = df_format.apply(lambda x: 'Mental health' if x['variable'] in cat_mental_health else x['category'],axis=1)\n",
    "    df_format['category'] = df_format.apply(lambda x: 'Food insecure' if x['variable'] in cat_food else x['category'],axis=1)\n",
    "    df_format['category'] = df_format.apply(lambda x: 'Well-being index' if x['variable'] in cat_wellbeing else x['category'],axis=1)\n",
    "    df_format['category'] = df_format.apply(lambda x: 'Discrimination index' if x['variable'] in cat_discrimination else x['category'],axis=1)"
   ]
  },
  {
   "cell_type": "code",
   "execution_count": null,
   "id": "4a2e460b",
   "metadata": {},
   "outputs": [],
   "source": [
    "#BANNER 4\n",
    "if banner_num == 4:\n",
    "    df_format['category'] = None\n",
    "    df_format['category'] = df_format.apply(lambda x: 'Age' if x['variable'] in cat_age else x['category'],axis=1)\n",
    "    df_format['category'] = df_format.apply(lambda x: 'Gender' if x['variable'] in cat_gender else x['category'],axis=1)\n",
    "    df_format['category'] = df_format.apply(lambda x: 'Sexual orientation' if x['variable'] in cat_sex_orientation else x['category'],axis=1)\n",
    "    df_format['category'] = df_format.apply(lambda x: 'Family status' if x['variable'] in cat_family else x['category'],axis=1)\n",
    "    df_format['category'] = df_format.apply(lambda x: 'Household size' if x['variable'] in cat_household else x['category'],axis=1)\n",
    "    df_format['category'] = df_format.apply(lambda x: 'Children at home' if x['variable'] in cat_children else x['category'],axis=1)"
   ]
  },
  {
   "cell_type": "code",
   "execution_count": null,
   "id": "4873ded5",
   "metadata": {},
   "outputs": [],
   "source": [
    "df_format['question_text'] = df_format['question_text'].apply(lambda x: \" \".join(x.split()))\n",
    "df_format['response'] = df_format['response'].apply(lambda x: \" \".join(str(x).split()))"
   ]
  },
  {
   "cell_type": "code",
   "execution_count": null,
   "id": "77f5d679",
   "metadata": {},
   "outputs": [],
   "source": [
    "df_format = df_format.rename(columns={'variable':'group','value':'frequency'})"
   ]
  },
  {
   "cell_type": "code",
   "execution_count": null,
   "id": "3ba2e80a",
   "metadata": {},
   "outputs": [],
   "source": [
    "df_format = df_format[['question_text','response','category','group','frequency']]"
   ]
  },
  {
   "cell_type": "code",
   "execution_count": null,
   "id": "ce2cef02",
   "metadata": {},
   "outputs": [],
   "source": [
    "df_format.to_csv(f'social_capital_2022_banner_{str(banner_num)}.csv',index=False,encoding='ansi')"
   ]
  },
  {
   "cell_type": "code",
   "execution_count": null,
   "id": "11e37213",
   "metadata": {},
   "outputs": [],
   "source": []
  }
 ],
 "metadata": {
  "kernelspec": {
   "display_name": "Python 3 (ipykernel)",
   "language": "python",
   "name": "python3"
  },
  "language_info": {
   "codemirror_mode": {
    "name": "ipython",
    "version": 3
   },
   "file_extension": ".py",
   "mimetype": "text/x-python",
   "name": "python",
   "nbconvert_exporter": "python",
   "pygments_lexer": "ipython3",
   "version": "3.11.5"
  }
 },
 "nbformat": 4,
 "nbformat_minor": 5
}
